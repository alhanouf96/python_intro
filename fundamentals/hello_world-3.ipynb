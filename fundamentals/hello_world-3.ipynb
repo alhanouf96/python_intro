{
 "cells": [
  {
   "cell_type": "code",
   "execution_count": 1,
   "metadata": {},
   "outputs": [
    {
     "name": "stdout",
     "output_type": "stream",
     "text": [
      "Hello World\n"
     ]
    }
   ],
   "source": [
    "print( \"Hello World\")"
   ]
  },
  {
   "cell_type": "code",
   "execution_count": 4,
   "metadata": {},
   "outputs": [
    {
     "name": "stdout",
     "output_type": "stream",
     "text": [
      "Hello Hanouf\n",
      "Hello Hanouf\n"
     ]
    }
   ],
   "source": [
    "name = \"Hanouf\"\n",
    "print(\"Hello\",name)\n",
    "print(\"Hello \" +name)"
   ]
  },
  {
   "cell_type": "code",
   "execution_count": 9,
   "metadata": {},
   "outputs": [
    {
     "name": "stdout",
     "output_type": "stream",
     "text": [
      "Hello 22\n",
      "Hello  22\n"
     ]
    }
   ],
   "source": [
    "num = 22\n",
    "print(\"Hello\",num)\n",
    "print(\"Hello \",+ num)"
   ]
  },
  {
   "cell_type": "code",
   "execution_count": 14,
   "metadata": {},
   "outputs": [
    {
     "name": "stdout",
     "output_type": "stream",
     "text": [
      "I love to eat sushi and pizza\n"
     ]
    },
    {
     "data": {
      "text/plain": [
       "'I love to eat sushi and pizza'"
      ]
     },
     "execution_count": 14,
     "metadata": {},
     "output_type": "execute_result"
    }
   ],
   "source": [
    "fave_food1 = \"sushi\"\n",
    "fave_food2 = \"pizza\"\n",
    "print(\"I love to eat {0} and {1}\".format(\"sushi\",\"pizza\")) # with .format()\n",
    "\n",
    "f\"{'I love to eat sushi and pizza'}\""
   ]
  },
  {
   "cell_type": "code",
   "execution_count": null,
   "metadata": {},
   "outputs": [],
   "source": []
  }
 ],
 "metadata": {
  "kernelspec": {
   "display_name": "Python 3",
   "language": "python",
   "name": "python3"
  },
  "language_info": {
   "codemirror_mode": {
    "name": "ipython",
    "version": 3
   },
   "file_extension": ".py",
   "mimetype": "text/x-python",
   "name": "python",
   "nbconvert_exporter": "python",
   "pygments_lexer": "ipython3",
   "version": "3.7.3"
  }
 },
 "nbformat": 4,
 "nbformat_minor": 4
}
